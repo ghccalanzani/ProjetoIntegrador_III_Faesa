{
 "cells": [
  {
   "cell_type": "code",
   "execution_count": 1,
   "id": "e9a33155",
   "metadata": {},
   "outputs": [],
   "source": [
    "import sqlite3\n",
    "import pandas as pd\n",
    "import numpy as np\n",
    "\n",
    "#Selecionar arquivo CSV na janela do Windows que servirá como base de dados\n",
    "import tkinter as tk\n",
    "from tkinter import filedialog\n",
    "root = tk.Tk()\n",
    "root.withdraw()\n",
    "file_path = filedialog.askopenfilename(filetypes=[(\"CSV Files\", \"*.csv\")])"
   ]
  },
  {
   "cell_type": "code",
   "execution_count": 2,
   "id": "3feeb669",
   "metadata": {},
   "outputs": [],
   "source": [
    "#### le arquivo CSV e cria DataFrame \"df\" ####\n",
    "\n",
    "df = pd.read_csv(file_path)\n",
    "\n",
    "# Exclui linhas com valores faltantes\n",
    "df.dropna(inplace=True)\n",
    "\n",
    "# Exclui linhas com valores inválidos\n",
    "condicaoNotasInvalidas = ((df['math score'] > 100) | (df['math score'] < 0) | \n",
    "                         (df['reading score'] > 100) | (df['reading score'] < 0) | \n",
    "                         (df['writing score'] > 100) | (df['writing score'] < 0))\n",
    "\n",
    "df.drop(df.loc[condicaoNotasInvalidas].index, inplace=True)\n",
    "\n",
    "# Mostra dataframe\n",
    "df.sample(n=5)"
   ]
  },
  {
   "cell_type": "code",
   "execution_count": 3,
   "id": "ee8b73b4",
   "metadata": {
    "scrolled": true
   },
   "outputs": [],
   "source": [
    "### Cria novo DataFrame \"dfFato\", cópia de \"df\" mas apenas com os campos de notas ###\n",
    "\n",
    "dfFato = df[['math score', 'reading score', 'writing score']].copy(deep=True)\n",
    "\n",
    "#Inserir coluna ID no dataframe fato\n",
    "dfFato.insert(0, 'ID', dfFato.index)\n",
    "\n",
    "dfFato.head()"
   ]
  },
  {
   "cell_type": "code",
   "execution_count": 4,
   "id": "06d8f569",
   "metadata": {},
   "outputs": [],
   "source": [
    "########### Cria tabela fato \"tabela_fato\" no SQLite ###########\n",
    "\n",
    "# Criar a conexão com o banco de dados\n",
    "conn = sqlite3.connect('bancodedados.db')\n",
    "\n",
    "# Carregar o dataframe para o banco de dados como uma tabela fato\n",
    "dfFato.to_sql('tabela_fato', conn, if_exists='replace', index=False)\n",
    "\n",
    "# Fecha a conexão com o banco de dados\n",
    "conn.close()"
   ]
  },
  {
   "cell_type": "code",
   "execution_count": 5,
   "id": "e925f047",
   "metadata": {},
   "outputs": [],
   "source": [
    "########### Alterar tabela_fato para criar chave estrangeira ###########\n",
    "\n",
    "conn = sqlite3.connect('bancodedados.db')\n",
    "cursor = conn.cursor()\n",
    "\n",
    "cursor.execute('''\n",
    "    ALTER TABLE tabela_fato ADD COLUMN ID_tabela_dimensao INTEGER REFERENCES tabela_dimensao(ID)\n",
    "''')\n",
    "\n",
    "\n",
    "#Commit das mudanças e fechamento da conexão\n",
    "conn.commit()\n",
    "conn.close()"
   ]
  },
  {
   "cell_type": "code",
   "execution_count": 6,
   "id": "911908bf",
   "metadata": {},
   "outputs": [],
   "source": [
    "########### Cria tabela_dimensao ###########\n",
    "\n",
    "conn = sqlite3.connect('bancodedados.db')\n",
    "cursor = conn.cursor()\n",
    "\n",
    "#Apaga a tabela dimensão se ela já existe\n",
    "cursor.execute('DROP TABLE IF EXISTS tabela_dimensao')\n",
    "\n",
    "#Cria a tabela dimensão\n",
    "cursor.execute('''\n",
    "    CREATE TABLE tabela_dimensao (\n",
    "        ID INTEGER PRIMARY KEY,\n",
    "        gender TEXT,\n",
    "        race_ethnicity TEXT,\n",
    "        parental_level_of_education TEXT,\n",
    "        lunch TEXT,\n",
    "        test_preparation_course TEXT\n",
    "    )\n",
    "''')\n",
    "\n",
    "# insere os dados na tabela dimensão, usando o índice da tabela fato como chave primária\n",
    "for i, row in df.iterrows():\n",
    "    query = f\"\"\"\n",
    "        INSERT INTO tabela_dimensao (id, gender, race_ethnicity, parental_level_of_education, lunch, test_preparation_course)\n",
    "        VALUES ({i}, \"{row['gender']}\", \"{row['race/ethnicity']}\", \"{row['parental level of education']}\", \"{row['lunch']}\", \"{row['test preparation course']}\")\n",
    "    \"\"\"\n",
    "    cursor.execute(query)\n",
    "\n",
    "#Commit das mudanças e fechamento da conexão\n",
    "conn.commit()\n",
    "conn.close()\n"
   ]
  },
  {
   "cell_type": "code",
   "execution_count": 7,
   "id": "f6accb5f",
   "metadata": {},
   "outputs": [],
   "source": [
    "########### Preencher chave estrangeira tabela_fato ###########\n",
    "\n",
    "conn = sqlite3.connect('bancodedados.db')\n",
    "cursor = conn.cursor()\n",
    "\n",
    "#Insere os dados nas colunas de chave estrangeira da tabela_fato\n",
    "cursor.execute('''\n",
    "    UPDATE tabela_fato SET ID_tabela_dimensao = ID\n",
    "''')\n",
    "\n",
    "#Commit das mudanças e fechamento da conexão\n",
    "conn.commit()\n",
    "conn.close()"
   ]
  },
  {
   "cell_type": "code",
   "execution_count": 8,
   "id": "6531b12b",
   "metadata": {
    "scrolled": false
   },
   "outputs": [],
   "source": [
    "########### Visualizar tabela ###########\n",
    "\n",
    "# Criar a conexão com o banco de dados\n",
    "conn = sqlite3.connect('bancodedados.db')\n",
    "\n",
    "# Executar a consulta SQL para selecionar todos os dados da tabela (Ex.: tabela_dimensao)\n",
    "consultaTabela = pd.read_sql_query(\"SELECT * from tabela_dimensao\", conn)\n",
    "\n",
    "# Fechar a conexão com o banco de dados\n",
    "conn.close()\n",
    "\n",
    "# Visualizar o dataframe\n",
    "consultaTabela"
   ]
  }
 ],
 "metadata": {
  "kernelspec": {
   "display_name": "Python 3 (ipykernel)",
   "language": "python",
   "name": "python3"
  },
  "language_info": {
   "codemirror_mode": {
    "name": "ipython",
    "version": 3
   },
   "file_extension": ".py",
   "mimetype": "text/x-python",
   "name": "python",
   "nbconvert_exporter": "python",
   "pygments_lexer": "ipython3",
   "version": "3.11.3"
  }
 },
 "nbformat": 4,
 "nbformat_minor": 5
}
