{
 "cells": [
  {
   "cell_type": "code",
   "execution_count": 1,
   "id": "e9a33155",
   "metadata": {},
   "outputs": [],
   "source": [
    "import sqlite3\n",
    "import pandas as pd\n",
    "import numpy as np\n",
    "from sklearn.model_selection import train_test_split\n",
    "from sklearn.linear_model import LogisticRegression\n",
    "from sklearn.metrics import accuracy_score\n",
    "from sklearn.preprocessing import StandardScaler\n",
    "\n",
    "#Selecionar arquivo CSV na janela do Windows que servirá como base de dados\n",
    "import tkinter as tk\n",
    "from tkinter import filedialog\n",
    "root = tk.Tk()\n",
    "root.withdraw()\n",
    "caminhoArquivoDados = filedialog.askopenfilename(filetypes=[(\"CSV Files\", \"*.csv\")])"
   ]
  },
  {
   "cell_type": "code",
   "execution_count": 2,
   "id": "3feeb669",
   "metadata": {},
   "outputs": [],
   "source": [
    "#### le arquivo CSV e cria DataFrame \"df\" ####\n",
    "\n",
    "df = pd.read_csv(caminhoArquivoDados)\n",
    "\n",
    "# Exclui linhas com valores faltantes\n",
    "df.dropna(inplace=True)\n",
    "\n",
    "# Exclui linhas com valores inválidos\n",
    "condicaoNotasInvalidas = ((df['math score'] > 100) | (df['math score'] < 0) | \n",
    "                         (df['reading score'] > 100) | (df['reading score'] < 0) | \n",
    "                         (df['writing score'] > 100) | (df['writing score'] < 0))\n",
    "\n",
    "df.drop(df.loc[condicaoNotasInvalidas].index, inplace=True)"
   ]
  },
  {
   "cell_type": "code",
   "execution_count": 3,
   "id": "92256760",
   "metadata": {},
   "outputs": [
    {
     "name": "stdout",
     "output_type": "stream",
     "text": [
      "Acurácia: 0.9633333333333334\n"
     ]
    },
    {
     "name": "stderr",
     "output_type": "stream",
     "text": [
      "C:\\Users\\Gustavo\\AppData\\Local\\Programs\\Python\\Python311\\Lib\\site-packages\\sklearn\\linear_model\\_logistic.py:458: ConvergenceWarning: lbfgs failed to converge (status=1):\n",
      "STOP: TOTAL NO. of ITERATIONS REACHED LIMIT.\n",
      "\n",
      "Increase the number of iterations (max_iter) or scale the data as shown in:\n",
      "    https://scikit-learn.org/stable/modules/preprocessing.html\n",
      "Please also refer to the documentation for alternative solver options:\n",
      "    https://scikit-learn.org/stable/modules/linear_model.html#logistic-regression\n",
      "  n_iter_i = _check_optimize_result(\n"
     ]
    }
   ],
   "source": [
    "# Transformar as variáveis categóricas em variáveis dummy\n",
    "df = pd.get_dummies(df, columns=['gender', 'race/ethnicity', 'parental level of education', 'lunch', 'test preparation course'])\n",
    "\n",
    "# Normalizar\n",
    "scaler = StandardScaler()\n",
    "scaler.fit(df)\n",
    "\n",
    "# Definir as features (variáveis independentes) e o alvo (variável dependente)\n",
    "features = list(df.columns)\n",
    "target = 'aprovado'\n",
    "\n",
    "# Calcular a média das notas\n",
    "df['media_notas'] = (df['math score'] + df['reading score'] + df['writing score']) / 3\n",
    "\n",
    "# Definir a variável alvo com base na média das notas\n",
    "df['aprovado'] = df['media_notas'] > 70\n",
    "\n",
    "# Dividir o conjunto de dados em treino e teste\n",
    "X_train, X_test, y_train, y_test = train_test_split(df[features], df[target], test_size=0.3, random_state=42)\n",
    "\n",
    "# Criar o modelo de regressão logística\n",
    "model = LogisticRegression(max_iter=100)\n",
    "\n",
    "# Treinar o modelo\n",
    "model.fit(X_train, y_train)\n",
    "\n",
    "# Fazer previsões no conjunto de teste\n",
    "predictions = model.predict(X_test)\n",
    "\n",
    "# Calcular a acurácia do modelo\n",
    "accuracy = accuracy_score(y_test, predictions)\n",
    "print('Acurácia:', accuracy)"
   ]
  }
 ],
 "metadata": {
  "kernelspec": {
   "display_name": "Python 3 (ipykernel)",
   "language": "python",
   "name": "python3"
  },
  "language_info": {
   "codemirror_mode": {
    "name": "ipython",
    "version": 3
   },
   "file_extension": ".py",
   "mimetype": "text/x-python",
   "name": "python",
   "nbconvert_exporter": "python",
   "pygments_lexer": "ipython3",
   "version": "3.11.3"
  }
 },
 "nbformat": 4,
 "nbformat_minor": 5
}
