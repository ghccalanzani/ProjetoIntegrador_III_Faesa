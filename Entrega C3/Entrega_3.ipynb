{
 "cells": [
  {
   "cell_type": "code",
   "execution_count": null,
   "id": "e9a33155",
   "metadata": {},
   "outputs": [],
   "source": [
    "import sqlite3\n",
    "import pandas as pd\n",
    "import numpy as np\n",
    "\n",
    "#Selecionar arquivo CSV na janela do Windows que servirá como base de dados\n",
    "import tkinter as tk\n",
    "from tkinter import filedialog\n",
    "root = tk.Tk()\n",
    "root.withdraw()\n",
    "caminhoArquivoDados = filedialog.askopenfilename(filetypes=[(\"CSV Files\", \"*.csv\")])"
   ]
  },
  {
   "cell_type": "code",
   "execution_count": null,
   "id": "3feeb669",
   "metadata": {},
   "outputs": [],
   "source": [
    "#### le arquivo CSV e cria DataFrame \"df\" ####\n",
    "\n",
    "df = pd.read_csv(caminhoArquivoDados)\n",
    "\n",
    "# Exclui linhas com valores faltantes\n",
    "df.dropna(inplace=True)\n",
    "\n",
    "# Exclui linhas com valores inválidos\n",
    "condicaoNotasInvalidas = ((df['math score'] > 100) | (df['math score'] < 0) | \n",
    "                         (df['reading score'] > 100) | (df['reading score'] < 0) | \n",
    "                         (df['writing score'] > 100) | (df['writing score'] < 0))\n",
    "\n",
    "df.drop(df.loc[condicaoNotasInvalidas].index, inplace=True)"
   ]
  },
  {
   "cell_type": "code",
   "execution_count": null,
   "id": "ee8b73b4",
   "metadata": {
    "scrolled": true
   },
   "outputs": [],
   "source": [
    "### Cria novo DataFrame \"dfFato\", cópia de \"df\" mas apenas com os campos de notas ###\n",
    "\n",
    "dfFato = df[['math score', 'reading score', 'writing score']].copy(deep=True)\n",
    "\n",
    "#Inserir coluna ID no dataframe fato\n",
    "dfFato.insert(0, 'ID', dfFato.index)"
   ]
  }
 ],
 "metadata": {
  "kernelspec": {
   "display_name": "Python 3 (ipykernel)",
   "language": "python",
   "name": "python3"
  },
  "language_info": {
   "codemirror_mode": {
    "name": "ipython",
    "version": 3
   },
   "file_extension": ".py",
   "mimetype": "text/x-python",
   "name": "python",
   "nbconvert_exporter": "python",
   "pygments_lexer": "ipython3",
   "version": "3.11.3"
  }
 },
 "nbformat": 4,
 "nbformat_minor": 5
}
